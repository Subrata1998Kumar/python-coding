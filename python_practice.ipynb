{
 "cells": [
  {
   "cell_type": "markdown",
   "id": "f848032e",
   "metadata": {},
   "source": [
    "### The Missing Number Puzzle\n",
    "You're given a list of n-1 integers from 1 to n. One number is missing. Find it."
   ]
  },
  {
   "cell_type": "code",
   "execution_count": null,
   "id": "634d4edf",
   "metadata": {},
   "outputs": [
    {
     "data": {
      "text/plain": [
       "3"
      ]
     },
     "execution_count": 1,
     "metadata": {},
     "output_type": "execute_result"
    }
   ],
   "source": [
    "def find_missing_number(nums: list[int]) -> int:\n",
    "    '''miss_num = (1+2+3+...+n) - sum(nums)'''\n",
    "    n = len(nums) +1\n",
    "    # Calculate the total sum of numbers from 1 to n.\n",
    "    total_sum = n * (n+1) // 2\n",
    "    # Find the missing numer from the list.\n",
    "    return total_sum - sum(nums)\n",
    "\n",
    "find_missing_number([1, 2, 4, 5]) "
   ]
  },
  {
   "cell_type": "markdown",
   "id": "58bd8756",
   "metadata": {},
   "source": [
    "### Balanced Brackets\n",
    "Check if a string of brackets is balanced. Support (), {}, []."
   ]
  },
  {
   "cell_type": "code",
   "execution_count": 2,
   "id": "353d4780",
   "metadata": {},
   "outputs": [
    {
     "data": {
      "text/plain": [
       "True"
      ]
     },
     "execution_count": 2,
     "metadata": {},
     "output_type": "execute_result"
    }
   ],
   "source": [
    "def is_balanced(s: str) -> bool:\n",
    "    ''' Check if the string has balanced parentheses. '''\n",
    "    stack = []\n",
    "    matching = {'(': ')', '{': '}', '[': ']'}\n",
    "    for char in s:\n",
    "        if char in matching:\n",
    "            stack.append(char)\n",
    "        elif char in matching.values():\n",
    "            if not stack or matching[stack.pop()] != char:\n",
    "                return False \n",
    "    return not stack    \n",
    "\n",
    "is_balanced(\"({[]})\")"
   ]
  },
  {
   "cell_type": "markdown",
   "id": "d3340ce3",
   "metadata": {},
   "source": [
    "### Prime Gaps\n",
    "Find all primes between two numbers and return the pair of primes with the largest gap."
   ]
  },
  {
   "cell_type": "code",
   "execution_count": 26,
   "id": "9ddd68de",
   "metadata": {},
   "outputs": [
    {
     "data": {
      "text/plain": [
       "(53, 59)"
      ]
     },
     "execution_count": 26,
     "metadata": {},
     "output_type": "execute_result"
    }
   ],
   "source": [
    "def is_prime(num: int) -> bool:\n",
    "    ''' Check Number is Prime or Not '''\n",
    "    if num < 2:\n",
    "        return False\n",
    "    for i in range(2, int(num**.5) + 1):\n",
    "        if num % i ==0:\n",
    "            return False\n",
    "    return True\n",
    "\n",
    "def prime_gap(low: int, high: int) -> tuple[int, int]:\n",
    "    gap = 0\n",
    "    prime = None\n",
    "    result = (None, None)\n",
    "    for i in range(low, high+1):\n",
    "        if is_prime(i):\n",
    "            if prime is not None:\n",
    "                if (i - prime) >= gap:\n",
    "                    gap = i - prime\n",
    "                    result = (prime, i)\n",
    "            prime = i\n",
    "    return result\n",
    "\n",
    "prime_gap(10,60)  \n"
   ]
  },
  {
   "cell_type": "code",
   "execution_count": 14,
   "id": "dc9aecc8",
   "metadata": {},
   "outputs": [
    {
     "data": {
      "text/plain": [
       "True"
      ]
     },
     "execution_count": 14,
     "metadata": {},
     "output_type": "execute_result"
    }
   ],
   "source": [
    "is_prime(7)"
   ]
  },
  {
   "cell_type": "markdown",
   "id": "3cbb7e5f",
   "metadata": {},
   "source": [
    "### Validate Palindrome with Cleaning\n",
    "Write a function that checks if a string is a palindrome, ignoring non-alphanumeric characters and case."
   ]
  },
  {
   "cell_type": "code",
   "execution_count": 28,
   "id": "4f22f4d2",
   "metadata": {},
   "outputs": [
    {
     "data": {
      "text/plain": [
       "True"
      ]
     },
     "execution_count": 28,
     "metadata": {},
     "output_type": "execute_result"
    }
   ],
   "source": [
    "def clean_string(s: str) -> str:\n",
    "    ''' Remove all non-alphanumeric characters from the string. ''' \n",
    "    return ''.join(char for char in s if char.isalnum())\n",
    "\n",
    "def palindrome_check(s: str) -> bool:\n",
    "    ''' Check if the string is a palindrome. '''\n",
    "    cleaned = clean_string(s).lower()\n",
    "    return cleaned == cleaned[::-1]\n",
    "\n",
    "palindrome_check(\"A man, a plan, a canal: Panama\")"
   ]
  },
  {
   "cell_type": "markdown",
   "id": "bfad2513",
   "metadata": {},
   "source": [
    "### Longest Valid Parentheses\n",
    "Given a string of only ( and ), return the length of the longest valid (well-formed) substring.\n"
   ]
  },
  {
   "cell_type": "code",
   "execution_count": 51,
   "id": "f3cea34e",
   "metadata": {},
   "outputs": [],
   "source": [
    "def longest_vaild_parentheses(s: str) -> int:\n",
    "    ''' Find the length of the longest valid parentheses substring. '''\n",
    "    stack = [-1]\n",
    "    max_length = 0\n",
    "    for i, char in enumerate(s):\n",
    "        if char == '(':\n",
    "            stack.append(i)\n",
    "        else:\n",
    "            stack.pop()\n",
    "            if not stack:\n",
    "                stack.append(i)\n",
    "            else:\n",
    "                max_length = max(max_length, i - stack[-1])\n",
    "    return max_length"
   ]
  },
  {
   "cell_type": "code",
   "execution_count": 62,
   "id": "ab74a87a",
   "metadata": {},
   "outputs": [
    {
     "data": {
      "text/plain": [
       "6"
      ]
     },
     "execution_count": 62,
     "metadata": {},
     "output_type": "execute_result"
    }
   ],
   "source": [
    "longest_vaild_parentheses('()()()')"
   ]
  },
  {
   "cell_type": "code",
   "execution_count": 64,
   "id": "29c5dfc1",
   "metadata": {},
   "outputs": [],
   "source": [
    "def longest_vaild_parentheses1(s: str) -> bool:\n",
    "    ''' Find logest valid parentheses'''\n",
    "    stack = []\n",
    "    max_len = 0\n",
    "    for index, char in enumerate(s):\n",
    "        if char == '(':\n",
    "            stack.append(index)\n",
    "        else:\n",
    "            if len(stack) == 1:\n",
    "                max_len = max(max_len, index+1-stack[0])\n",
    "                stack.pop()\n",
    "            elif len(stack) > 1:\n",
    "                max_len = max(max_len, index+1-stack[-1])\n",
    "                stack.pop()\n",
    "    return max_len\n"
   ]
  },
  {
   "cell_type": "code",
   "execution_count": 66,
   "id": "1092a406",
   "metadata": {},
   "outputs": [
    {
     "data": {
      "text/plain": [
       "2"
      ]
     },
     "execution_count": 66,
     "metadata": {},
     "output_type": "execute_result"
    }
   ],
   "source": [
    "longest_vaild_parentheses1('()()()') # 3 vaild pair with max len 2 each\n",
    "# longest_vaild_parentheses1('(()')"
   ]
  }
 ],
 "metadata": {
  "kernelspec": {
   "display_name": "Python 3",
   "language": "python",
   "name": "python3"
  },
  "language_info": {
   "codemirror_mode": {
    "name": "ipython",
    "version": 3
   },
   "file_extension": ".py",
   "mimetype": "text/x-python",
   "name": "python",
   "nbconvert_exporter": "python",
   "pygments_lexer": "ipython3",
   "version": "3.12.3"
  }
 },
 "nbformat": 4,
 "nbformat_minor": 5
}
