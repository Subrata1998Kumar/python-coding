{
 "cells": [
  {
   "cell_type": "markdown",
   "id": "f848032e",
   "metadata": {},
   "source": [
    "### The Missing Number Puzzle\n",
    "You're given a list of n-1 integers from 1 to n. One number is missing. Find it."
   ]
  },
  {
   "cell_type": "code",
   "execution_count": 11,
   "id": "634d4edf",
   "metadata": {},
   "outputs": [],
   "source": [
    "def find_missing_number(nums: list[int]) -> int:\n",
    "    '''miss_num = (1+2+3+...+n) - sum(nums)'''\n",
    "    n = len(nums) +1\n",
    "    # Calculate the total sum of numbers from 1 to n.\n",
    "    total_sum = n * (n+1) // 2\n",
    "    # Find the missing numer from the list.\n",
    "    return total_sum - sum(nums)\n",
    "\n",
    "\n",
    "def test_find_missing_number():\n",
    "    assert find_missing_number([1, 2, 4, 5]) == 3\n",
    "    assert find_missing_number([3, 7, 1, 2, 8, 4, 5]) == 6\n",
    "    assert find_missing_number([1]) == 2\n",
    "    assert find_missing_number([]) == 1\n",
    "    assert find_missing_number([2]) == 1\n",
    "    assert find_missing_number([1, 3]) == 2\n",
    "    assert find_missing_number([1, 2, 3]) == 4\n",
    "    assert find_missing_number([1, 2,3, 5, 6, 7]) == 4\n",
    "\n",
    "test_find_missing_number()"
   ]
  }
 ],
 "metadata": {
  "kernelspec": {
   "display_name": "Python 3",
   "language": "python",
   "name": "python3"
  },
  "language_info": {
   "codemirror_mode": {
    "name": "ipython",
    "version": 3
   },
   "file_extension": ".py",
   "mimetype": "text/x-python",
   "name": "python",
   "nbconvert_exporter": "python",
   "pygments_lexer": "ipython3",
   "version": "3.12.3"
  }
 },
 "nbformat": 4,
 "nbformat_minor": 5
}
