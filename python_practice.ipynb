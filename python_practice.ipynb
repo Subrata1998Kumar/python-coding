{
 "cells": [
  {
   "cell_type": "markdown",
   "id": "f848032e",
   "metadata": {},
   "source": [
    "### The Missing Number Puzzle\n",
    "You're given a list of n-1 integers from 1 to n. One number is missing. Find it."
   ]
  },
  {
   "cell_type": "code",
   "execution_count": null,
   "id": "634d4edf",
   "metadata": {},
   "outputs": [
    {
     "data": {
      "text/plain": [
       "3"
      ]
     },
     "execution_count": 1,
     "metadata": {},
     "output_type": "execute_result"
    }
   ],
   "source": [
    "def find_missing_number(nums: list[int]) -> int:\n",
    "    '''miss_num = (1+2+3+...+n) - sum(nums)'''\n",
    "    n = len(nums) +1\n",
    "    # Calculate the total sum of numbers from 1 to n.\n",
    "    total_sum = n * (n+1) // 2\n",
    "    # Find the missing numer from the list.\n",
    "    return total_sum - sum(nums)\n",
    "\n",
    "find_missing_number([1, 2, 4, 5]) "
   ]
  },
  {
   "cell_type": "markdown",
   "id": "58bd8756",
   "metadata": {},
   "source": [
    "### Balanced Brackets\n",
    "Check if a string of brackets is balanced. Support (), {}, []."
   ]
  },
  {
   "cell_type": "code",
   "execution_count": 2,
   "id": "353d4780",
   "metadata": {},
   "outputs": [
    {
     "data": {
      "text/plain": [
       "True"
      ]
     },
     "execution_count": 2,
     "metadata": {},
     "output_type": "execute_result"
    }
   ],
   "source": [
    "def is_balanced(s: str) -> bool:\n",
    "    ''' Check if the string has balanced parentheses. '''\n",
    "    stack = []\n",
    "    matching = {'(': ')', '{': '}', '[': ']'}\n",
    "    for char in s:\n",
    "        if char in matching:\n",
    "            stack.append(char)\n",
    "        elif char in matching.values():\n",
    "            if not stack or matching[stack.pop()] != char:\n",
    "                return False \n",
    "    return not stack    \n",
    "\n",
    "is_balanced(\"({[]})\")"
   ]
  }
 ],
 "metadata": {
  "kernelspec": {
   "display_name": "Python 3",
   "language": "python",
   "name": "python3"
  },
  "language_info": {
   "codemirror_mode": {
    "name": "ipython",
    "version": 3
   },
   "file_extension": ".py",
   "mimetype": "text/x-python",
   "name": "python",
   "nbconvert_exporter": "python",
   "pygments_lexer": "ipython3",
   "version": "3.12.3"
  }
 },
 "nbformat": 4,
 "nbformat_minor": 5
}
